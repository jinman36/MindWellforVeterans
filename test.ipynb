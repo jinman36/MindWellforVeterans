{
 "cells": [
  {
   "cell_type": "code",
   "execution_count": 9,
   "metadata": {},
   "outputs": [
    {
     "name": "stdout",
     "output_type": "stream",
     "text": [
      "{\n",
      "  \"message\":\"Invalid authentication credentials\"\n",
      "}"
     ]
    }
   ],
   "source": [
    "! curl -X GET 'https://api.va.gov/services/provider-directory/v0/r4/Location?address=9596%20Peaceful%20Pine%20Ln&address-city=Spokane&address-postalcode=99224' \\\n",
    "--header 'apikey: 2I5zzzZQh5vPOOH5w0UN2PpZU0ows2hD' \\\n",
    "--header 'accept: application/fhir+json'"
   ]
  },
  {
   "cell_type": "code",
   "execution_count": 5,
   "metadata": {},
   "outputs": [
    {
     "name": "stdout",
     "output_type": "stream",
     "text": [
      "{\"resourceType\":\"Practitioner\",\"id\":\"4-Ufekf9eGUfQawlD29M8J\",\"meta\":{\"lastUpdated\":\"2015-07-04T12:50:12Z\"},\"identifier\":[{\"use\":\"usual\",\"type\":{\"coding\":[{\"system\":\"http://terminology.hl7.org/CodeSystem/v2-0203\",\"code\":\"MR\"}]},\"system\":\"http://va.gov/mpi\",\"value\":\"1015517260V990420\",\"assigner\":{\"display\":\"Master Patient Index\"}},{\"system\":\"http://hl7.org/fhir/sid/us-npi\",\"value\":\"1932127842\"}],\"active\":true,\"name\":[{\"family\":\"DOE922\",\"given\":[\"JANE460\"],\"prefix\":[\"DR.\"],\"suffix\":[\"MD\"]}],\"telecom\":[{\"system\":\"phone\",\"value\":\"555-555-1137\",\"use\":\"work\"},{\"system\":\"phone\",\"value\":\"555-4055\",\"use\":\"home\"},{\"system\":\"pager\",\"value\":\"5-541\",\"use\":\"mobile\"}],\"address\":[{\"line\":[\"555 E 5TH ST\",\"SUITE B\"],\"city\":\"CHEYENNE\",\"state\":\"WYOMING\",\"postalCode\":\"82001\",\"period\":{\"start\":\"2010-01-01\",\"end\":\"2015-04-02\"}}],\"gender\":\"female\",\"qualification\":[{\"code\":{\"text\":\"MD\"}}]}"
     ]
    }
   ],
   "source": [
    "! curl -X GET 'https://sandbox-api.va.gov/services/provider-directory/v0/r4/Practitioner/I2-VLZYJVF7MOB2SFAKTAPNSQIBWZS22HGVT3A56E5D5PHDUWJGQIGQ0000' \\\n",
    "--header 'apikey: 2I5zzzZQh5vPOOH5w0UN2PpZU0ows2hD' \\\n",
    "--header 'accept: application/fhir+json'"
   ]
  },
  {
   "cell_type": "code",
   "execution_count": 1,
   "metadata": {},
   "outputs": [],
   "source": [
    "import requests\n",
    "\n",
    "\n",
    "\n",
    "VA_Provider_sandbox_api = \"https://gist.githubusercontent.com/jinman36/3a312fdb41b63fbd08595b3bf3ab2aad/raw/6ba8934c56d68304758cd673acabb59282cf6221/VA_Provider_sandbox_api.json\"\n",
    "response = requests.get(\n",
    "    VA_Provider_sandbox_api,\n",
    "    timeout=10\n",
    ")\n",
    "\n",
    "data = response.json()\n",
    "\n"
   ]
  },
  {
   "cell_type": "code",
   "execution_count": 2,
   "metadata": {},
   "outputs": [
    {
     "data": {
      "text/plain": [
       "['JANE460']"
      ]
     },
     "execution_count": 2,
     "metadata": {},
     "output_type": "execute_result"
    }
   ],
   "source": [
    "data['name'][0]['given']"
   ]
  },
  {
   "cell_type": "code",
   "execution_count": 11,
   "metadata": {},
   "outputs": [
    {
     "data": {
      "text/plain": [
       "'CHEYENNE'"
      ]
     },
     "execution_count": 11,
     "metadata": {},
     "output_type": "execute_result"
    }
   ],
   "source": [
    "data[\"address\"][0]['city']"
   ]
  },
  {
   "cell_type": "code",
   "execution_count": 12,
   "metadata": {},
   "outputs": [
    {
     "data": {
      "text/plain": [
       "'WYOMING'"
      ]
     },
     "execution_count": 12,
     "metadata": {},
     "output_type": "execute_result"
    }
   ],
   "source": [
    "data[\"address\"][0]['state']"
   ]
  },
  {
   "cell_type": "code",
   "execution_count": 14,
   "metadata": {},
   "outputs": [
    {
     "data": {
      "text/plain": [
       "'Practitioner'"
      ]
     },
     "execution_count": 14,
     "metadata": {},
     "output_type": "execute_result"
    }
   ],
   "source": [
    "data['resourceType']"
   ]
  }
 ],
 "metadata": {
  "kernelspec": {
   "display_name": "ai_ml",
   "language": "python",
   "name": "python3"
  },
  "language_info": {
   "codemirror_mode": {
    "name": "ipython",
    "version": 3
   },
   "file_extension": ".py",
   "mimetype": "text/x-python",
   "name": "python",
   "nbconvert_exporter": "python",
   "pygments_lexer": "ipython3",
   "version": "3.12.2"
  }
 },
 "nbformat": 4,
 "nbformat_minor": 2
}
